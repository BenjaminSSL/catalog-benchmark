{
 "cells": [
  {
   "cell_type": "markdown",
   "id": "21421e404c5a81c7",
   "metadata": {},
   "source": [
    "# Log Analysis"
   ]
  },
  {
   "cell_type": "code",
   "execution_count": 23,
   "id": "2c0c1c1f",
   "metadata": {},
   "outputs": [],
   "source": [
    "import matplotlib.pyplot as plt\n",
    "import duckdb\n",
    "import pandas as pd"
   ]
  },
  {
   "cell_type": "code",
   "execution_count": 26,
   "id": "9d6f72d5",
   "metadata": {},
   "outputs": [],
   "source": [
    "# Connecting to the local file database\n",
    "con = duckdb.connect(database=\"../database/benchmark.db\")\n",
    "\n",
    "\n",
    "df = con.execute(\"\"\"\n",
    "    SELECT * FROM logs\n",
    "\"\"\").fetchdf()"
   ]
  }
 ],
 "metadata": {
  "kernelspec": {
   "display_name": "Python 3",
   "language": "python",
   "name": "python3"
  },
  "language_info": {
   "codemirror_mode": {
    "name": "ipython",
    "version": 3
   },
   "file_extension": ".py",
   "mimetype": "text/x-python",
   "name": "python",
   "nbconvert_exporter": "python",
   "pygments_lexer": "ipython3",
   "version": "3.13.2"
  }
 },
 "nbformat": 5,
 "nbformat_minor": 9
}
